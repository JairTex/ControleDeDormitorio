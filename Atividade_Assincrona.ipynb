{
  "nbformat": 4,
  "nbformat_minor": 0,
  "metadata": {
    "colab": {
      "name": "Atividade_Assincrona.ipynb",
      "provenance": [],
      "collapsed_sections": [],
      "authorship_tag": "ABX9TyO+b/+hyztz2ejdtuWFqy4o",
      "include_colab_link": true
    },
    "kernelspec": {
      "name": "python3",
      "display_name": "Python 3"
    },
    "language_info": {
      "name": "python"
    }
  },
  "cells": [
    {
      "cell_type": "markdown",
      "metadata": {
        "id": "view-in-github",
        "colab_type": "text"
      },
      "source": [
        "<a href=\"https://colab.research.google.com/github/JairTex/ControleDeDormitorio/blob/master/Atividade_Assincrona.ipynb\" target=\"_parent\"><img src=\"https://colab.research.google.com/assets/colab-badge.svg\" alt=\"Open In Colab\"/></a>"
      ]
    },
    {
      "cell_type": "markdown",
      "metadata": {
        "id": "uVO_UHgbJIVH"
      },
      "source": [
        "## Atividade Assíncrona de Estrutura de Dados (21-06-21)\n",
        "**Discente:** Jair Soares Teixeira.\n"
      ]
    },
    {
      "cell_type": "markdown",
      "metadata": {
        "id": "mmjcCifZJSDa"
      },
      "source": [
        "**Questão 01:**Faça um programa que peça uma nota, entre zero e dez. Mostre uma mensagem caso o valor seja inválido e continue pedindo até que o usuário informe um valor válido."
      ]
    },
    {
      "cell_type": "code",
      "metadata": {
        "colab": {
          "base_uri": "https://localhost:8080/"
        },
        "id": "X9dDFuiII-cf",
        "outputId": "6274c0c6-a6d6-4756-ce6d-5d097ad8cb5b"
      },
      "source": [
        "nota = float(input(\"Insira uma nota (0 á 10): \"))\n",
        "while (nota > 10) or (nota < 0):\n",
        "    print(\"Nota inválida, digite uma nota válida!\")\n",
        "    nota = float(input(\"Insira a nota (0 á 10): \"))\n",
        "print (\"A nota \" + str(nota) + \" foi adicionada!\")"
      ],
      "execution_count": 8,
      "outputs": [
        {
          "output_type": "stream",
          "text": [
            "Insira uma nota (0 á 10): 11\n",
            "Nota inválida, digite uma nota válida!\n",
            "Insira a nota (0 á 10): 56\n",
            "Nota inválida, digite uma nota válida!\n",
            "Insira a nota (0 á 10): -1\n",
            "Nota inválida, digite uma nota válida!\n",
            "Insira a nota (0 á 10): 0\n",
            "A nota 0.0 foi adicionada!\n"
          ],
          "name": "stdout"
        }
      ]
    },
    {
      "cell_type": "markdown",
      "metadata": {
        "id": "FSPOuLVOf9wa"
      },
      "source": [
        "**Questão 02:**Faça um programa que leia um nome de usuário e a sua senha e não aceite a senha igual ao nome do usuário, mostrando uma mensagem de erro e voltando a pedir as informações."
      ]
    },
    {
      "cell_type": "code",
      "metadata": {
        "colab": {
          "base_uri": "https://localhost:8080/"
        },
        "id": "P3Ho3aythV2n",
        "outputId": "cd210cde-6073-40f8-fa3c-80efada3edbb"
      },
      "source": [
        "usuario = str(input(\"Insira um nome de usuário: \"))\n",
        "senha = str(input(\"Insira uma senha: \"))\n",
        "while usuario == senha:\n",
        "    print(\"Sua senha não pode ser igual ao seu nome de usuário. Digite uma nova senha!\")\n",
        "    senha = str(input(\"Insira uma senha: \"))\n",
        "print(\"O usuário \" + usuario + \" foi adicionado!\")"
      ],
      "execution_count": 9,
      "outputs": [
        {
          "output_type": "stream",
          "text": [
            "Insira um nome de usuário: jair\n",
            "Insira uma senha: jair\n",
            "Sua senha não pode ser igual ao seu nome de usuário. Digite uma nova senha!\n",
            "Insira uma senha: 1234\n",
            "O usuário jair foi adicionado!\n"
          ],
          "name": "stdout"
        }
      ]
    },
    {
      "cell_type": "markdown",
      "metadata": {
        "id": "kJ86jPbwhfMM"
      },
      "source": [
        "**Questão 03:**Faça um programa que leia 5 números e informe o maior número."
      ]
    },
    {
      "cell_type": "code",
      "metadata": {
        "colab": {
          "base_uri": "https://localhost:8080/"
        },
        "id": "_kZRvNu3iDgJ",
        "outputId": "b1a02277-bfe1-4132-dde3-9394ec7b2ff2"
      },
      "source": [
        "lista = [int(1), int(2), int(3), int(4), int(5)]\n",
        "numero1 = int(input(\"Digite o primeiro número: \"))\n",
        "lista[0] = numero1\n",
        "numero2 = int(input(\"Digite o segundo número: \"))\n",
        "lista[1] = numero2\n",
        "numero3 = int(input(\"Digite o terceiro número: \"))\n",
        "lista[2] = numero3\n",
        "numero4 = int(input(\"Digite o quarto número: \"))\n",
        "lista[3] = numero4\n",
        "numero5 = int(input(\"Digite o quinto número: \"))\n",
        "lista[4] = numero5\n",
        "print(\"O maior valor da lista digitada foi \", max(lista))"
      ],
      "execution_count": 10,
      "outputs": [
        {
          "output_type": "stream",
          "text": [
            "Digite o primeiro número: 12\n",
            "Digite o segundo número: 15\n",
            "Digite o terceiro número: 18\n",
            "Digite o quarto número: 98\n",
            "Digite o quinto número: 35\n",
            "O maior valor da lista digitada foi  98\n"
          ],
          "name": "stdout"
        }
      ]
    },
    {
      "cell_type": "markdown",
      "metadata": {
        "id": "Mcm9ONdIvXKh"
      },
      "source": [
        "**Questão 04:**Faça um programa que leia 5 números e informe a soma e a média dos números"
      ]
    },
    {
      "cell_type": "code",
      "metadata": {
        "colab": {
          "base_uri": "https://localhost:8080/"
        },
        "id": "3lzGAFDtwW0H",
        "outputId": "20705ac0-e7fe-449d-8f00-de86327f9c14"
      },
      "source": [
        "lista = [int(1), int(2), int(3), int(4), int(5)]\n",
        "numero1 = int(input(\"Digite o primeiro número: \"))\n",
        "lista[0] = numero1\n",
        "numero2 = int(input(\"Digite o segundo número: \"))\n",
        "lista[1] = numero2\n",
        "numero3 = int(input(\"Digite o terceiro número: \"))\n",
        "lista[2] = numero3\n",
        "numero4 = int(input(\"Digite o quarto número: \"))\n",
        "lista[3] = numero4\n",
        "numero5 = int(input(\"Digite o quinto número: \"))\n",
        "lista[4] = numero5\n",
        "media = sum(lista) / len(lista)\n",
        "print(\"A média dos 5 números é igual a \", media)"
      ],
      "execution_count": 12,
      "outputs": [
        {
          "output_type": "stream",
          "text": [
            "Digite o primeiro número: 30\n",
            "Digite o segundo número: 20\n",
            "Digite o terceiro número: 25\n",
            "Digite o quarto número: 20\n",
            "Digite o quinto número: 30\n",
            "A média dos 5 números é igual a  25.0\n"
          ],
          "name": "stdout"
        }
      ]
    },
    {
      "cell_type": "markdown",
      "metadata": {
        "id": "MYTZrZSbwrqX"
      },
      "source": [
        "**Questão 05:**Faça um programa que imprima na tela apenas os números ímpares entre 1 e 50."
      ]
    },
    {
      "cell_type": "code",
      "metadata": {
        "colab": {
          "base_uri": "https://localhost:8080/"
        },
        "id": "WSVxQ0RjwqgR",
        "outputId": "03fa77d1-22ac-4b8a-cf94-2a0d8b4acb8e"
      },
      "source": [
        "for pares in range (2,51,2):\n",
        "  print(pares)"
      ],
      "execution_count": 18,
      "outputs": [
        {
          "output_type": "stream",
          "text": [
            "2\n",
            "4\n",
            "6\n",
            "8\n",
            "10\n",
            "12\n",
            "14\n",
            "16\n",
            "18\n",
            "20\n",
            "22\n",
            "24\n",
            "26\n",
            "28\n",
            "30\n",
            "32\n",
            "34\n",
            "36\n",
            "38\n",
            "40\n",
            "42\n",
            "44\n",
            "46\n",
            "48\n",
            "50\n"
          ],
          "name": "stdout"
        }
      ]
    },
    {
      "cell_type": "markdown",
      "metadata": {
        "id": "80ZVE-BEx7ci"
      },
      "source": [
        "**Questão 06:**Faça um Programa que peça dois números e imprima o maior deles."
      ]
    },
    {
      "cell_type": "code",
      "metadata": {
        "colab": {
          "base_uri": "https://localhost:8080/"
        },
        "id": "14JHWyFByIDC",
        "outputId": "b5e22328-cd57-446e-bde5-540ccbfee488"
      },
      "source": [
        "lista = [int(1), int(2)]\n",
        "numero1 = int(input(\"Digite um número: \"))\n",
        "lista[0] = numero1\n",
        "numero2 = int(input(\"Digite mais um número: \"))\n",
        "lista[1] = numero2\n",
        "print(\"O maior dos dois valores é \", max(lista)) "
      ],
      "execution_count": 19,
      "outputs": [
        {
          "output_type": "stream",
          "text": [
            "Digite um número: 2\n",
            "Digite mais um número: 3\n",
            "O maior dos dois valores é  3\n"
          ],
          "name": "stdout"
        }
      ]
    },
    {
      "cell_type": "markdown",
      "metadata": {
        "id": "gRBXmNSuyewL"
      },
      "source": [
        "**Questão 07:**Faça um Programa que peça um valor e mostre na tela se o valor é positivo ou negativo."
      ]
    },
    {
      "cell_type": "code",
      "metadata": {
        "colab": {
          "base_uri": "https://localhost:8080/"
        },
        "id": "sYl5lOTJytOv",
        "outputId": "ceffca46-f8c5-45e1-a663-38c4917e792d"
      },
      "source": [
        "valor = float(input(\"Digite um valor: \"))\n",
        "if valor < 0:\n",
        "  print(\"O valor \", str(valor), \" é negativo!\")\n",
        "elif valor > 0:\n",
        "  print(\"O valor \", str(valor), \" é positivo\")\n",
        "else:\n",
        "  print(\"O valor 0 é um número neutro\")"
      ],
      "execution_count": 22,
      "outputs": [
        {
          "output_type": "stream",
          "text": [
            "Digite um valor: -9\n",
            "O valor  -9.0  é negativo!\n"
          ],
          "name": "stdout"
        }
      ]
    },
    {
      "cell_type": "markdown",
      "metadata": {
        "id": "CXUGSF3GzjId"
      },
      "source": [
        "**Questão 08:**Faça um Programa que leia três números e mostre-os em ordem decrescente."
      ]
    },
    {
      "cell_type": "code",
      "metadata": {
        "colab": {
          "base_uri": "https://localhost:8080/"
        },
        "id": "Jz3UBlBIzsf_",
        "outputId": "32fa63ff-50cf-4463-da03-09513a587719"
      },
      "source": [
        "lista = [int(1), int(2), int(3)]\n",
        "numero1 = int(input(\"Digite o primeiro número: \"))\n",
        "lista[0] = numero1\n",
        "numero2 = int(input(\"Digite o segundo número: \"))\n",
        "lista[1] = numero2\n",
        "numero3 = int(input(\"Digite o terceiro número: \"))\n",
        "lista[2] = numero3\n",
        "lista.sort()\n",
        "lista.reverse()\n",
        "print(lista)"
      ],
      "execution_count": 23,
      "outputs": [
        {
          "output_type": "stream",
          "text": [
            "Digite o primeiro número: 2\n",
            "Digite o segundo número: 3\n",
            "Digite o terceiro número: 1\n",
            "[3, 2, 1]\n"
          ],
          "name": "stdout"
        }
      ]
    },
    {
      "cell_type": "markdown",
      "metadata": {
        "id": "2Xk5gV5v0ruq"
      },
      "source": [
        "**Questão 09:**Faça um Programa que peça a temperatura em graus Fahrenheit, transforme e mostre a temperatura em graus Celsius."
      ]
    },
    {
      "cell_type": "code",
      "metadata": {
        "colab": {
          "base_uri": "https://localhost:8080/"
        },
        "id": "AAb1uj7x0_VE",
        "outputId": "b449da71-f44b-4195-c2ec-d9800174c9d5"
      },
      "source": [
        "f = float(input(\"Digite a temperatura em Fahrenheit que deseja transformar em Celcius: \"))\n",
        "c = 5 * ((f-32)/9)\n",
        "print(f, \"°F é igual a \", c, \"°C\")"
      ],
      "execution_count": 25,
      "outputs": [
        {
          "output_type": "stream",
          "text": [
            "Digite a temperatura em Fahrenheit que deseja transformar em Celcius: 100\n",
            "100.0 °F é igual a  37.77777777777778 °C\n"
          ],
          "name": "stdout"
        }
      ]
    },
    {
      "cell_type": "markdown",
      "metadata": {
        "id": "tbxYkAaG2R5a"
      },
      "source": [
        "**Questão 10:**Faça um Programa que peça 2 números inteiros e um número real. Calcule e mostre: \n",
        "\n",
        "**a)** o produto do dobro do primeiro com metade do segundo.\n",
        "\n",
        "**b)** a soma do triplo do primeiro com o terceiro.\n",
        "\n",
        "**c)** o terceiro elevado ao cubo."
      ]
    },
    {
      "cell_type": "code",
      "metadata": {
        "colab": {
          "base_uri": "https://localhost:8080/"
        },
        "id": "UGqCgDUk2evY",
        "outputId": "4c29fbd3-74f6-497a-de5b-58e65ab26b75"
      },
      "source": [
        "numero1 = int(input(\"Digite um número inteiro: \"))\n",
        "numero2 = int(input(\"Digite outro número inteiro: \"))\n",
        "numero3 = float(input(\"Agora digite um número real: \"))\n",
        "print(\"A) \", (2*numero1)*(numero2/2))\n",
        "print(\"B) \", 3*numero1+numero3)\n",
        "print(\"C) \", numero3**3)"
      ],
      "execution_count": 29,
      "outputs": [
        {
          "output_type": "stream",
          "text": [
            "Digite um número inteiro: 2\n",
            "Digite outro número inteiro: 3\n",
            "Agora digite um número real: 4\n",
            "A)  6.0\n",
            "B)  10.0\n",
            "C)  64.0\n"
          ],
          "name": "stdout"
        }
      ]
    }
  ]
}